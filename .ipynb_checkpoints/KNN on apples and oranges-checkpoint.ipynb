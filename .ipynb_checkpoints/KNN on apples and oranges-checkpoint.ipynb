{
 "cells": [
  {
   "cell_type": "code",
   "execution_count": 1,
   "metadata": {},
   "outputs": [],
   "source": [
    "# For classifying apples and oranges based on colors and sweetness/sourness\n",
    "# we will create data on our own and test it using Knn algorithm\n"
   ]
  },
  {
   "cell_type": "code",
   "execution_count": 2,
   "metadata": {},
   "outputs": [],
   "source": [
    "import numpy as np\n",
    "from matplotlib import pyplot as plt\n",
    "# matplotlib inline means that the graphs will be \n",
    "# plotted in the same window, not a separate window\n",
    "%matplotlib inline"
   ]
  },
  {
   "cell_type": "code",
   "execution_count": 39,
   "metadata": {},
   "outputs": [
    {
     "name": "stdout",
     "output_type": "stream",
     "text": [
      "[0. 2.]\n",
      "[[1. 0.]\n",
      " [0. 1.]]\n",
      "(500, 2)\n",
      "(500, 2)\n"
     ]
    }
   ],
   "source": [
    "# First we need some data. For this we'll be using a probability distribution\n",
    "# We will try to define some parameters but before that\n",
    "# let's discuss what these parameters do for a distribution\n",
    "# we're assuming that what all points we'll generate, their\n",
    "# mean will be along (0,2)\n",
    "mean_01 = np.asarray([0., 2.])\n",
    "\n",
    "# Similarly we have assumed the standard deviation also\n",
    "sigma_01 = np.asarray([[1.0, 0.0], [0.0, 1.0]])\n",
    "\n",
    "print(mean_01)\n",
    "print(sigma_01)\n",
    "\n",
    "data_01 = np.random.multivariate_normal(mean_01, sigma_01, 500)\n",
    "#print(data_01)\n",
    "print(data_01.shape)\n",
    "\n",
    "\n",
    "# Generating a second cluster\n",
    "mean_02 = np.asarray([4., 0.])\n",
    "sigma_02 = np.asarray([[1.0, 0.0], [0.0, 1.0]])\n",
    "data_02 = np.random.multivariate_normal(mean_02, sigma_02, 500)\n",
    "print(data_02.shape)"
   ]
  },
  {
   "cell_type": "code",
   "execution_count": 50,
   "metadata": {},
   "outputs": [
    {
     "data": {
      "image/png": "[encoded data removed]",
      "text/plain": [
       "<Figure size 432x288 with 1 Axes>"
      ]
     },
     "metadata": {
      "needs_background": "light"
     },
     "output_type": "display_data"
    }
   ],
   "source": [
    "plt.figure(0)\n",
    "plt.grid('on')\n",
    "#plt.xlim(0, 10)\n",
    "#plt.ylim(0, 10)\n",
    "plt.scatter(data_01[:, 0], data_01[:, 1], color = \"red\")\n",
    "plt.scatter(data_02[:, 0], data_02[:, 1], color = \"green\")\n",
    "plt.show()"
   ]
  },
  {
   "cell_type": "code",
   "execution_count": 51,
   "metadata": {},
   "outputs": [],
   "source": [
    "# We have a total of 1000 data points 500 of classs Red, 500 of class Green\n",
    "# We are manually setting the last 500 points as 1\n",
    "# and first 500 points as 0.\n",
    "labels = np.zeros((1000, 1))\n",
    "labels[500:, :] = 1.0"
   ]
  },
  {
   "cell_type": "code",
   "execution_count": 52,
   "metadata": {},
   "outputs": [
    {
     "name": "stdout",
     "output_type": "stream",
     "text": [
      "(1000, 2)\n"
     ]
    }
   ],
   "source": [
    "data = np.concatenate([data_01, data_02], axis = 0)\n",
    "print(data.shape)"
   ]
  },
  {
   "cell_type": "code",
   "execution_count": 55,
   "metadata": {},
   "outputs": [
    {
     "name": "stdout",
     "output_type": "stream",
     "text": [
      "[505, 146, 951, 177, 509, 75, 990, 192, 219, 925]\n"
     ]
    }
   ],
   "source": [
    "# WE ARE SHUFFLING THE DATA, because when we feed the values in order,\n",
    "# it gets trained as 0 for first 500 values, irrespective of the features\n",
    "# that those points hold. \n",
    "# So we'll train our model by providing data in random order. So that\n",
    "# it gets trained based on the features of the points\n",
    "ind = list(range(1000))\n",
    "np.random.shuffle(ind)\n",
    "print(ind[:10])"
   ]
  },
  {
   "cell_type": "code",
   "execution_count": 66,
   "metadata": {},
   "outputs": [
    {
     "name": "stdout",
     "output_type": "stream",
     "text": [
      "(1000, 2)\n",
      "(1000, 1)\n"
     ]
    }
   ],
   "source": [
    "data = data[ind]\n",
    "labels = labels[ind]\n",
    "print (data.shape)\n",
    "print(labels.shape)"
   ]
  },
  {
   "cell_type": "code",
   "execution_count": 122,
   "metadata": {},
   "outputs": [
    {
     "data": {
      "text/plain": [
       "1.0"
      ]
     },
     "execution_count": 122,
     "metadata": {},
     "output_type": "execute_result"
    }
   ],
   "source": [
    "def distance(x1, x2):\n",
    "    return np.sqrt(((x1-x2)**2).sum())\n",
    "\n",
    "\n",
    "# x = Testing Point\n",
    "# train = Training Data\n",
    "# targets = Training Labels\n",
    "def knn(x, train, targets, k = 5):\n",
    "    m = train.shape[0]\n",
    "    dist = []\n",
    "    for i in range(m):\n",
    "        # Compute distance from each point and store in dist[]\n",
    "        dist.append(distance(x, train[i]))\n",
    "    dist = np.asarray(dist)\n",
    "    indx = np.argsort(dist)\n",
    "    # Retrieving the starting k values after getting all the labels\n",
    "    # which are close to the testing point\n",
    "    sorted_labels = labels[indx][:k]\n",
    "    #print(sorted_labels)\n",
    "    \n",
    "    #print(train)\n",
    "    \n",
    "    # Unique function takes a list and returns the total distinct\n",
    "    # values in a list with their count\n",
    "    \n",
    "    \n",
    "    #print(np.unique(sorted_labels, return_counts = True))\n",
    "    counts = np.unique(sorted_labels, return_counts = True)\n",
    "    # Here we are printing the label whose count was greater in the previous step\n",
    "    # count[0] has the labels that are 0, 1 here\n",
    "    # count[1] contains their counts. We are printing the label which has\n",
    "    # maximum value in count[1].\n",
    "    return counts[0][np.argmax(counts[1])]\n",
    "x_test = np.asarray([2.0, 0.0])\n",
    "knn(x_test, data, labels)"
   ]
  },
  {
   "cell_type": "code",
   "execution_count": 123,
   "metadata": {},
   "outputs": [
    {
     "name": "stdout",
     "output_type": "stream",
     "text": [
      "(750, 2) (250, 2)\n",
      "(750, 1) (250, 1)\n"
     ]
    }
   ],
   "source": [
    "# Dividing our data into training and testing sets 75 and 25\n",
    "split = int(data.shape[0] * 0.75)\n",
    "x_train = data[:split]\n",
    "x_test = data[split:]\n",
    "\n",
    "y_train = labels[:split]\n",
    "y_test = labels[split:]\n",
    "\n",
    "print(x_train.shape, x_test.shape)\n",
    "print(y_train.shape, y_test.shape)"
   ]
  },
  {
   "cell_type": "code",
   "execution_count": 131,
   "metadata": {},
   "outputs": [
    {
     "name": "stdout",
     "output_type": "stream",
     "text": [
      "(250, 1)\n"
     ]
    }
   ],
   "source": [
    "# Create placeholder for storing test predictions\n",
    "preds = []\n",
    "\n",
    "# Run a loop over every testing example and store the predictions\n",
    "\n",
    "for i in range(x_test.shape[0]):\n",
    "    preds.append(knn(x_test[i], x_train, y_train))\n",
    "preds = np.asarray(preds).reshape(250,1)\n",
    "print(preds.shape)"
   ]
  },
  {
   "cell_type": "code",
   "execution_count": 134,
   "metadata": {},
   "outputs": [
    {
     "name": "stdout",
     "output_type": "stream",
     "text": [
      "Matched results =  247\n",
      "Accuracy : 98.8\n"
     ]
    }
   ],
   "source": [
    "# This returns the sum of all the values that are true or false.\n",
    "# Here 247 means that 247 results are accurately matched\n",
    "# while 3 are wrong\n",
    "print(\"Matched results = \",(preds == y_test).sum())\n",
    "\n",
    "print(\"Accuracy :\", 100*(preds == y_test).sum()/preds.shape[0])"
   ]
  },
  {
   "cell_type": "code",
   "execution_count": null,
   "metadata": {},
   "outputs": [],
   "source": []
  }
 ],
 "metadata": {
  "kernelspec": {
   "display_name": "Python 3",
   "language": "python",
   "name": "python3"
  },
  "language_info": {
   "codemirror_mode": {
    "name": "ipython",
    "version": 3
   },
   "file_extension": ".py",
   "mimetype": "text/x-python",
   "name": "python",
   "nbconvert_exporter": "python",
   "pygments_lexer": "ipython3",
   "version": "3.7.0"
  }
 },
 "nbformat": 4,
 "nbformat_minor": 4
}
